{
 "cells": [
  {
   "cell_type": "markdown",
   "id": "c94ed1bb-b02d-463f-8b78-9a6a12f01ed6",
   "metadata": {
    "tags": []
   },
   "source": [
    "# Data Science Tools and Ecosystem"
   ]
  },
  {
   "cell_type": "markdown",
   "id": "963ab9ae-eb54-40c6-a842-1a3bebc74298",
   "metadata": {
    "tags": []
   },
   "source": [
    "## In this notebook, Data Science Tools and Ecosystem are summarized."
   ]
  },
  {
   "cell_type": "markdown",
   "id": "139fff73-4485-4913-ad8a-3229482ed6a3",
   "metadata": {},
   "source": [
    "## Some of the popular languages that Data Scientists use are:\n",
    "1. Python\n",
    "2. Java\n",
    "3. SQL"
   ]
  },
  {
   "cell_type": "markdown",
   "id": "857bed9a-17d9-46c6-9bd4-1bd367e139a6",
   "metadata": {
    "tags": []
   },
   "source": [
    "## **Objectives:**\n",
    "- Python\n",
    "- Java\n",
    "- SQL"
   ]
  },
  {
   "cell_type": "markdown",
   "id": "d6bec30f-7673-473c-b44f-e67f4e2ce590",
   "metadata": {
    "tags": []
   },
   "source": [
    "## Some of the commonly used libraries used by Data Scientists include:\n",
    "1. Pandas\n",
    "2. Matplotlib\n",
    "3. Tensorflow\n",
    "4. Numpy\n"
   ]
  },
  {
   "cell_type": "markdown",
   "id": "2966055b-a987-4027-80b6-cb22eff9ce6b",
   "metadata": {},
   "source": [
    "## Data Science tools\n",
    "\n",
    "| Data Science Tools |\n",
    "|-------------|\n",
    "| Rstudio|\n",
    "| Apache Spark |\n",
    "| TensorFlow |\n",
    "\n"
   ]
  },
  {
   "cell_type": "markdown",
   "id": "0a687ab7-ebce-4f68-97d2-9b65cdd5ee80",
   "metadata": {},
   "source": [
    "### Below are a few examples of evaluating arithmetic expressions in Python"
   ]
  },
  {
   "cell_type": "code",
   "execution_count": 10,
   "id": "5097de36-85a8-413b-b7a4-8fb681c49693",
   "metadata": {
    "tags": []
   },
   "outputs": [
    {
     "data": {
      "text/plain": [
       "17"
      ]
     },
     "execution_count": 10,
     "metadata": {},
     "output_type": "execute_result"
    }
   ],
   "source": [
    "# This a simple arithmetic expression to mutiply then add integer\n",
    "(3*4)+5"
   ]
  },
  {
   "cell_type": "code",
   "execution_count": 11,
   "id": "a5c549ea-7026-4d50-8be6-a80bf6a33eef",
   "metadata": {
    "tags": []
   },
   "outputs": [
    {
     "data": {
      "text/plain": [
       "33.333333333333336"
      ]
     },
     "execution_count": 11,
     "metadata": {},
     "output_type": "execute_result"
    }
   ],
   "source": [
    "# This will convert 200 minutes to hours by diving by 60.\n",
    "(200)/6"
   ]
  },
  {
   "cell_type": "markdown",
   "id": "933802a0-0e71-4a69-8806-8894af2f3751",
   "metadata": {},
   "source": [
    "## Author"
   ]
  },
  {
   "cell_type": "markdown",
   "id": "9cfe2976-1277-42f6-a203-b4a324c5980b",
   "metadata": {},
   "source": [
    "G. Praveen kumar"
   ]
  }
 ],
 "metadata": {
  "kernelspec": {
   "display_name": "Python",
   "language": "python",
   "name": "conda-env-python-py"
  },
  "language_info": {
   "codemirror_mode": {
    "name": "ipython",
    "version": 3
   },
   "file_extension": ".py",
   "mimetype": "text/x-python",
   "name": "python",
   "nbconvert_exporter": "python",
   "pygments_lexer": "ipython3",
   "version": "3.7.12"
  }
 },
 "nbformat": 4,
 "nbformat_minor": 5
}
